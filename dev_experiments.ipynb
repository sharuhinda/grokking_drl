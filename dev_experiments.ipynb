{
 "cells": [
  {
   "cell_type": "code",
   "execution_count": 1,
   "metadata": {},
   "outputs": [],
   "source": [
    "%load_ext autoreload\n",
    "%autoreload 2"
   ]
  },
  {
   "cell_type": "code",
   "execution_count": 5,
   "metadata": {},
   "outputs": [
    {
     "name": "stdout",
     "output_type": "stream",
     "text": [
      "numpy version: 1.26.1\n"
     ]
    }
   ],
   "source": [
    "import numpy as np\n",
    "print('numpy version:', np.__version__)\n",
    "\n",
    "from environments import SWF\n",
    "from agents import policy_evaluation"
   ]
  },
  {
   "cell_type": "code",
   "execution_count": 7,
   "metadata": {},
   "outputs": [
    {
     "name": "stdout",
     "output_type": "stream",
     "text": [
      "Environment: SWF\n"
     ]
    }
   ],
   "source": [
    "env = SWF()\n",
    "print(env)"
   ]
  },
  {
   "cell_type": "code",
   "execution_count": 14,
   "metadata": {},
   "outputs": [
    {
     "name": "stdout",
     "output_type": "stream",
     "text": [
      "Go-get-it policy: {0: 1, 1: 1, 2: 1, 3: 1, 4: 1, 5: 1, 6: 1}\n",
      "Opposite GGI policy: {0: 0, 1: 0, 2: 0, 3: 0, 4: 0, 5: 0, 6: 0}\n",
      "Random    policy: {0: 1, 1: 0, 2: 0, 3: 0, 4: 1, 5: 1, 6: 1}\n"
     ]
    }
   ],
   "source": [
    "# go-get-it policy for SWF environment\n",
    "pi_ggi_swf = { 0: 1, 1: 1, 2: 1, 3: 1, 4: 1, 5: 1, 6: 1 }\n",
    "# opposite policy for SWF environment\n",
    "pi_ggi_opp_swf = { key: 1-val for key, val in pi_ggi_swf.items() }\n",
    "\n",
    "# random policy for SWF\n",
    "pi_rand_swf = { i: np.random.choice([0, 1]) for i in range(7) }\n",
    "\n",
    "print('Go-get-it policy:', pi_ggi_swf)\n",
    "print('Opp GGI policy  :', pi_ggi_opp_swf)\n",
    "print('Random policy   :', pi_rand_swf)"
   ]
  },
  {
   "cell_type": "code",
   "execution_count": 15,
   "metadata": {},
   "outputs": [
    {
     "name": "stdout",
     "output_type": "stream",
     "text": [
      "Value function for GGI policy (38 cycles to get): [0.         0.23833083 0.37234115 0.50066272 0.65556094 0.85391184\n",
      " 0.        ]\n"
     ]
    }
   ],
   "source": [
    "v_ggi, cycles_ggi = policy_evaluation(pi_ggi_swf, env.P)\n",
    "print(f'Value function for GGI policy ({cycles_ggi} cycles to get):', v_ggi)"
   ]
  },
  {
   "cell_type": "code",
   "execution_count": 16,
   "metadata": {},
   "outputs": [
    {
     "name": "stdout",
     "output_type": "stream",
     "text": [
      "Value function for GGI opposite policy (27 cycles to get): [0.         0.00108005 0.00496737 0.01966149 0.07575824 0.29030566\n",
      " 0.        ]\n"
     ]
    }
   ],
   "source": [
    "v_ggi_opp, cycles_ggi_opp = policy_evaluation(pi_ggi_opp_swf, env.P)\n",
    "print(f'Value function for GGI opposite policy ({cycles_ggi_opp} cycles to get):', v_ggi_opp)"
   ]
  },
  {
   "cell_type": "code",
   "execution_count": 17,
   "metadata": {},
   "outputs": [
    {
     "name": "stdout",
     "output_type": "stream",
     "text": [
      "Value function for random policy (27 cycles to get): [0.         0.0080849  0.03715912 0.14698715 0.56612392 0.8344456\n",
      " 0.        ]\n"
     ]
    }
   ],
   "source": [
    "v_rand, cycles_rand = policy_evaluation(pi_rand_swf, env.P)\n",
    "print(f'Value function for random policy ({cycles_rand} cycles to get):', v_rand)"
   ]
  },
  {
   "cell_type": "code",
   "execution_count": null,
   "metadata": {},
   "outputs": [],
   "source": []
  }
 ],
 "metadata": {
  "kernelspec": {
   "display_name": ".venv",
   "language": "python",
   "name": "python3"
  },
  "language_info": {
   "codemirror_mode": {
    "name": "ipython",
    "version": 3
   },
   "file_extension": ".py",
   "mimetype": "text/x-python",
   "name": "python",
   "nbconvert_exporter": "python",
   "pygments_lexer": "ipython3",
   "version": "3.10.9"
  }
 },
 "nbformat": 4,
 "nbformat_minor": 2
}
