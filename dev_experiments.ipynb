{
 "cells": [
  {
   "cell_type": "code",
   "execution_count": 1,
   "metadata": {},
   "outputs": [],
   "source": [
    "%load_ext autoreload\n",
    "%autoreload 2"
   ]
  },
  {
   "cell_type": "code",
   "execution_count": 4,
   "metadata": {},
   "outputs": [
    {
     "name": "stdout",
     "output_type": "stream",
     "text": [
      "numpy version: 1.26.1\n"
     ]
    }
   ],
   "source": [
    "import numpy as np\n",
    "print('numpy version:', np.__version__)\n",
    "\n",
    "from environments import Environment, SWF"
   ]
  },
  {
   "cell_type": "code",
   "execution_count": 3,
   "metadata": {},
   "outputs": [
    {
     "data": {
      "text/plain": [
       "<environments.SWF at 0x1fcb62e7d30>"
      ]
     },
     "execution_count": 3,
     "metadata": {},
     "output_type": "execute_result"
    }
   ],
   "source": [
    "env = SWF()\n",
    "env"
   ]
  },
  {
   "cell_type": "code",
   "execution_count": null,
   "metadata": {},
   "outputs": [],
   "source": [
    "class Policy:\n",
    "    def __init__(self, P=None, d=None) -> None:\n",
    "        if d is None:\n",
    "            #num_actions = \n",
    "            self.pi = {}"
   ]
  },
  {
   "cell_type": "code",
   "execution_count": null,
   "metadata": {},
   "outputs": [],
   "source": [
    "def policy_evaluation(pi, P, gamma=0.9, epsilon=1e-5):\n",
    "    \"\"\"\n",
    "    Arguments:\n",
    "        pi - policy => function to map states to actions\n",
    "        P - dict of states, actions and transitions' parameters\n",
    "    \"\"\"\n",
    "    cycles = 0\n",
    "    prev_v = np.zeros(len(P))\n",
    "    while True:\n",
    "        v = np.zeros(len(P))\n",
    "        cycles += 1\n",
    "        for s in P.keys():\n",
    "            # this cycle goes through all transitions for action returned by policy pi for state s\n",
    "            for proba, next_s, reward, is_terminal in P[s][pi(s)]:\n",
    "                v[s] += proba * (reward + gamma * prev_v[next_s] * (not is_terminal))\n",
    "\n",
    "        if np.max(np.abs(prev_v - v)) < epsilon:\n",
    "            break\n",
    "        prev_v = v.copy()\n",
    "\n",
    "    return v, cycles"
   ]
  }
 ],
 "metadata": {
  "kernelspec": {
   "display_name": ".venv",
   "language": "python",
   "name": "python3"
  },
  "language_info": {
   "codemirror_mode": {
    "name": "ipython",
    "version": 3
   },
   "file_extension": ".py",
   "mimetype": "text/x-python",
   "name": "python",
   "nbconvert_exporter": "python",
   "pygments_lexer": "ipython3",
   "version": "3.10.9"
  }
 },
 "nbformat": 4,
 "nbformat_minor": 2
}
